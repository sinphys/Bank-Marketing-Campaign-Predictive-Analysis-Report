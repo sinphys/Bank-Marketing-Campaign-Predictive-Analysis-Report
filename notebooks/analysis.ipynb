{
 "cells": [
  {
   "cell_type": "code",
   "execution_count": 3,
   "id": "b845d686",
   "metadata": {},
   "outputs": [],
   "source": [
    "# Step 1: Load Libraries\n",
    "import pandas as pd\n",
    "from sklearn.model_selection import train_test_split\n",
    "from sklearn.preprocessing import StandardScaler\n",
    "\n",
    "# Step 2: Load the Dataset\n",
    "file_path = '/media/sina/Sina/Yandex_sync/Academia/sci_codes/python/Kaggle/Bank_Marketing_Dataset/data/bank.csv'\n",
    "data = pd.read_csv(file_path)\n",
    "\n"
   ]
  },
  {
   "cell_type": "code",
   "execution_count": 4,
   "id": "ee764da9",
   "metadata": {},
   "outputs": [
    {
     "name": "stdout",
     "output_type": "stream",
     "text": [
      "Cleaned target values:\n",
      " deposit\n",
      "0    5873\n",
      "1    5289\n",
      "Name: count, dtype: int64\n"
     ]
    }
   ],
   "source": [
    "# Step 3: Clean and map target column\n",
    "data['deposit'] = data['deposit'].str.strip().str.lower()\n",
    "data['deposit'] = data['deposit'].map({'yes': 1, 'no': 0})\n",
    "\n",
    "print(\"Cleaned target values:\\n\", data['deposit'].value_counts())"
   ]
  },
  {
   "cell_type": "code",
   "execution_count": 5,
   "id": "7ba61496",
   "metadata": {},
   "outputs": [
    {
     "name": "stdout",
     "output_type": "stream",
     "text": [
      "\n",
      "Dataset Info:\n",
      "<class 'pandas.core.frame.DataFrame'>\n",
      "RangeIndex: 11162 entries, 0 to 11161\n",
      "Data columns (total 17 columns):\n",
      " #   Column     Non-Null Count  Dtype \n",
      "---  ------     --------------  ----- \n",
      " 0   age        11162 non-null  int64 \n",
      " 1   job        11162 non-null  object\n",
      " 2   marital    11162 non-null  object\n",
      " 3   education  11162 non-null  object\n",
      " 4   default    11162 non-null  object\n",
      " 5   balance    11162 non-null  int64 \n",
      " 6   housing    11162 non-null  object\n",
      " 7   loan       11162 non-null  object\n",
      " 8   contact    11162 non-null  object\n",
      " 9   day        11162 non-null  int64 \n",
      " 10  month      11162 non-null  object\n",
      " 11  duration   11162 non-null  int64 \n",
      " 12  campaign   11162 non-null  int64 \n",
      " 13  pdays      11162 non-null  int64 \n",
      " 14  previous   11162 non-null  int64 \n",
      " 15  poutcome   11162 non-null  object\n",
      " 16  deposit    11162 non-null  int64 \n",
      "dtypes: int64(8), object(9)\n",
      "memory usage: 1.4+ MB\n",
      "None\n",
      "\n",
      "Statistical Summary:\n",
      "                age       balance           day      duration      campaign  \\\n",
      "count  11162.000000  11162.000000  11162.000000  11162.000000  11162.000000   \n",
      "mean      41.231948   1528.538524     15.658036    371.993818      2.508421   \n",
      "std       11.913369   3225.413326      8.420740    347.128386      2.722077   \n",
      "min       18.000000  -6847.000000      1.000000      2.000000      1.000000   \n",
      "25%       32.000000    122.000000      8.000000    138.000000      1.000000   \n",
      "50%       39.000000    550.000000     15.000000    255.000000      2.000000   \n",
      "75%       49.000000   1708.000000     22.000000    496.000000      3.000000   \n",
      "max       95.000000  81204.000000     31.000000   3881.000000     63.000000   \n",
      "\n",
      "              pdays      previous       deposit  \n",
      "count  11162.000000  11162.000000  11162.000000  \n",
      "mean      51.330407      0.832557      0.473840  \n",
      "std      108.758282      2.292007      0.499338  \n",
      "min       -1.000000      0.000000      0.000000  \n",
      "25%       -1.000000      0.000000      0.000000  \n",
      "50%       -1.000000      0.000000      0.000000  \n",
      "75%       20.750000      1.000000      1.000000  \n",
      "max      854.000000     58.000000      1.000000  \n"
     ]
    }
   ],
   "source": [
    "# Step 4: Basic Info\n",
    "print(\"\\nDataset Info:\")\n",
    "print(data.info())\n",
    "print(\"\\nStatistical Summary:\")\n",
    "print(data.describe())"
   ]
  },
  {
   "cell_type": "code",
   "execution_count": 6,
   "id": "266eb9ad",
   "metadata": {},
   "outputs": [],
   "source": [
    "# Step 5: Encode Categorical Features (FIXED)\n",
    "categorical_cols = data.select_dtypes(include=['object']).columns\n",
    "data_encoded = pd.get_dummies(data, columns=categorical_cols, drop_first=True)"
   ]
  },
  {
   "cell_type": "code",
   "execution_count": 7,
   "id": "912419bf",
   "metadata": {},
   "outputs": [],
   "source": [
    "# Step 6: Scale Numerical Features\n",
    "numerical_cols = ['age', 'balance', 'day', 'campaign', 'pdays', 'previous']\n",
    "scaler = StandardScaler()\n",
    "data_encoded[numerical_cols] = scaler.fit_transform(data_encoded[numerical_cols])"
   ]
  },
  {
   "cell_type": "code",
   "execution_count": 8,
   "id": "30e13afb",
   "metadata": {},
   "outputs": [
    {
     "name": "stdout",
     "output_type": "stream",
     "text": [
      "\n",
      "Train/Test split completed.\n",
      "Training samples: 8929, Test samples: 2233\n"
     ]
    }
   ],
   "source": [
    "# Step 7: Train-Test Split\n",
    "X = data_encoded.drop('deposit', axis=1)\n",
    "y = data_encoded['deposit']\n",
    "\n",
    "X_train, X_test, y_train, y_test = train_test_split(\n",
    "    X, y, test_size=0.2, random_state=42, stratify=y\n",
    ")\n",
    "\n",
    "print(\"\\nTrain/Test split completed.\")\n",
    "print(f\"Training samples: {X_train.shape[0]}, Test samples: {X_test.shape[0]}\")"
   ]
  },
  {
   "cell_type": "code",
   "execution_count": 9,
   "id": "adc6c31d",
   "metadata": {},
   "outputs": [
    {
     "name": "stdout",
     "output_type": "stream",
     "text": [
      "Confusion Matrix:\n",
      "[[999 176]\n",
      " [215 843]]\n",
      "\n",
      "Classification Report:\n",
      "              precision    recall  f1-score   support\n",
      "\n",
      "           0       0.82      0.85      0.84      1175\n",
      "           1       0.83      0.80      0.81      1058\n",
      "\n",
      "    accuracy                           0.82      2233\n",
      "   macro avg       0.83      0.82      0.82      2233\n",
      "weighted avg       0.82      0.82      0.82      2233\n",
      "\n",
      "\n",
      "Accuracy: 0.8249\n"
     ]
    },
    {
     "name": "stderr",
     "output_type": "stream",
     "text": [
      "/home/sina/venvs/myenv_Kaggle/lib/python3.10/site-packages/sklearn/linear_model/_logistic.py:465: ConvergenceWarning: lbfgs failed to converge (status=1):\n",
      "STOP: TOTAL NO. OF ITERATIONS REACHED LIMIT.\n",
      "\n",
      "Increase the number of iterations (max_iter) or scale the data as shown in:\n",
      "    https://scikit-learn.org/stable/modules/preprocessing.html\n",
      "Please also refer to the documentation for alternative solver options:\n",
      "    https://scikit-learn.org/stable/modules/linear_model.html#logistic-regression\n",
      "  n_iter_i = _check_optimize_result(\n"
     ]
    }
   ],
   "source": [
    "from sklearn.linear_model import LogisticRegression\n",
    "from sklearn.metrics import classification_report, confusion_matrix, accuracy_score\n",
    "\n",
    "# Step 8: Initialize and fit the Logistic Regression model\n",
    "model = LogisticRegression(max_iter=1000, random_state=42)\n",
    "model.fit(X_train, y_train)\n",
    "\n",
    "# Step 9: Predict on the test set using Logistic Regression\n",
    "y_pred = model.predict(X_test)\n",
    "\n",
    "# Step 10: Evaluate Logistic Regression model\n",
    "print(\"Confusion Matrix:\")\n",
    "print(confusion_matrix(y_test, y_pred))\n",
    "\n",
    "print(\"\\nClassification Report:\")\n",
    "print(classification_report(y_test, y_pred))\n",
    "\n",
    "print(f\"\\nAccuracy: {accuracy_score(y_test, y_pred):.4f}\")\n"
   ]
  },
  {
   "cell_type": "code",
   "execution_count": 10,
   "id": "3b890075",
   "metadata": {},
   "outputs": [
    {
     "name": "stdout",
     "output_type": "stream",
     "text": [
      "Confusion Matrix:\n",
      "[[997 178]\n",
      " [208 850]]\n",
      "\n",
      "Classification Report:\n",
      "              precision    recall  f1-score   support\n",
      "\n",
      "           0       0.83      0.85      0.84      1175\n",
      "           1       0.83      0.80      0.81      1058\n",
      "\n",
      "    accuracy                           0.83      2233\n",
      "   macro avg       0.83      0.83      0.83      2233\n",
      "weighted avg       0.83      0.83      0.83      2233\n",
      "\n",
      "\n",
      "Accuracy: 0.8271\n"
     ]
    }
   ],
   "source": [
    "model = LogisticRegression(max_iter=2000, solver='liblinear', random_state=42)\n",
    "model.fit(X_train, y_train)\n",
    "\n",
    "# Step 11: Predict and evaluate with tuned Logistic Regression (liblinear)\n",
    "y_pred = model.predict(X_test)\n",
    "\n",
    "print(\"Confusion Matrix:\")\n",
    "print(confusion_matrix(y_test, y_pred))\n",
    "\n",
    "print(\"\\nClassification Report:\")\n",
    "print(classification_report(y_test, y_pred))\n",
    "\n",
    "print(f\"\\nAccuracy: {accuracy_score(y_test, y_pred):.4f}\")\n",
    "\n"
   ]
  },
  {
   "cell_type": "code",
   "execution_count": 11,
   "id": "4f22801b",
   "metadata": {},
   "outputs": [
    {
     "name": "stdout",
     "output_type": "stream",
     "text": [
      "CV Accuracy: 0.7858 ± 0.0337\n"
     ]
    }
   ],
   "source": [
    "# Step 12: Cross-validation score for Logistic Regression\n",
    "from sklearn.model_selection import cross_val_score\n",
    "scores = cross_val_score(model, X, y, cv=5, scoring='accuracy')\n",
    "print(f\"CV Accuracy: {scores.mean():.4f} ± {scores.std():.4f}\")\n"
   ]
  },
  {
   "cell_type": "code",
   "execution_count": 12,
   "id": "ae5c2d5a",
   "metadata": {},
   "outputs": [
    {
     "name": "stdout",
     "output_type": "stream",
     "text": [
      "Random Forest CV Accuracy: 0.8033 ± 0.0520\n"
     ]
    }
   ],
   "source": [
    "# Step 13: Cross-validation score for Random Forest Classifier\n",
    "from sklearn.ensemble import RandomForestClassifier\n",
    "rf_model = RandomForestClassifier(n_estimators=100, random_state=42)\n",
    "rf_scores = cross_val_score(rf_model, X, y, cv=5, scoring='accuracy')\n",
    "print(f\"Random Forest CV Accuracy: {rf_scores.mean():.4f} ± {rf_scores.std():.4f}\")\n"
   ]
  },
  {
   "cell_type": "code",
   "execution_count": 13,
   "id": "fdde5b63",
   "metadata": {},
   "outputs": [
    {
     "name": "stdout",
     "output_type": "stream",
     "text": [
      "duration            0.336915\n",
      "balance             0.084862\n",
      "age                 0.078115\n",
      "day                 0.071954\n",
      "campaign            0.036640\n",
      "contact_unknown     0.036204\n",
      "pdays               0.034471\n",
      "poutcome_success    0.034227\n",
      "housing_yes         0.026135\n",
      "previous            0.018556\n",
      "dtype: float64\n"
     ]
    }
   ],
   "source": [
    "# Step 14: Feature importance from Random Forest\n",
    "rf_model.fit(X_train, y_train)\n",
    "importances = pd.Series(rf_model.feature_importances_, index=X.columns)\n",
    "print(importances.sort_values(ascending=False).head(10))"
   ]
  },
  {
   "cell_type": "code",
   "execution_count": 14,
   "id": "c95b0100",
   "metadata": {},
   "outputs": [
    {
     "data": {
      "image/png": "[encoded data removed]",
      "text/plain": [
       "<Figure size 600x400 with 1 Axes>"
      ]
     },
     "metadata": {},
     "output_type": "display_data"
    }
   ],
   "source": [
    "import matplotlib.pyplot as plt\n",
    "\n",
    "# Data\n",
    "subscribed = 5289\n",
    "not_subscribed = 5873\n",
    "subscription_counts = pd.Series({\n",
    "    'Subscribed (1)': subscribed,\n",
    "    'Not Subscribed (0)': not_subscribed\n",
    "})\n",
    "\n",
    "# Plot\n",
    "plt.figure(figsize=(6, 4))\n",
    "subscription_counts.plot(kind='bar', color=['green', 'red'])\n",
    "plt.title('Client Subscription Distribution')\n",
    "plt.ylabel('Number of Clients')\n",
    "plt.xticks(rotation=0)\n",
    "plt.tight_layout()\n",
    "plt.savefig(\"plot_subscription_distribution.png\")\n",
    "plt.show()\n"
   ]
  },
  {
   "cell_type": "code",
   "execution_count": 15,
   "metadata": {},
   "outputs": [
    {
     "data": {
      "image/png": "[encoded data removed]",
      "text/plain": [
       "<Figure size 500x500 with 1 Axes>"
      ]
     },
     "metadata": {},
     "output_type": "display_data"
    }
   ],
   "source": [
    "# Data\n",
    "sizes = [subscribed, not_subscribed]\n",
    "labels = ['Subscribed', 'Not Subscribed']\n",
    "colors = ['green', 'red']\n",
    "\n",
    "# Plot\n",
    "plt.figure(figsize=(5, 5))\n",
    "plt.pie(sizes, labels=labels, autopct='%1.1f%%', colors=colors, startangle=140)\n",
    "plt.title('Subscription Percentage')\n",
    "plt.tight_layout()\n",
    "plt.savefig(\"plot_subscription_pie.png\")\n",
    "plt.show()\n"
   ]
  },
  {
   "cell_type": "code",
   "execution_count": 16,
   "metadata": {},
   "outputs": [
    {
     "name": "stderr",
     "output_type": "stream",
     "text": [
      "/tmp/ipykernel_15421/137206574.py:10: FutureWarning: \n",
      "\n",
      "Passing `palette` without assigning `hue` is deprecated and will be removed in v0.14.0. Assign the `x` variable to `hue` and set `legend=False` for the same effect.\n",
      "\n",
      "  sns.barplot(\n"
     ]
    },
    {
     "data": {
      "image/png": "[encoded data removed]",
      "text/plain": [
       "<Figure size 600x400 with 1 Axes>"
      ]
     },
     "metadata": {},
     "output_type": "display_data"
    }
   ],
   "source": [
    "import seaborn as sns\n",
    "\n",
    "# Metrics\n",
    "model_accuracy = 0.8271\n",
    "precision_1 = 0.83\n",
    "recall_1 = 0.80\n",
    "\n",
    "# Plot\n",
    "plt.figure(figsize=(6, 4))\n",
    "sns.barplot(\n",
    "    x=['Accuracy', 'Precision (Subscribed)', 'Recall (Subscribed)'],\n",
    "    y=[model_accuracy, precision_1, recall_1],\n",
    "    palette='Blues_d'\n",
    ")\n",
    "plt.ylim(0, 1)\n",
    "plt.ylabel('Score')\n",
    "plt.title('Model Performance Metrics')\n",
    "plt.tight_layout()\n",
    "plt.savefig(\"plot_model_metrics.png\")\n",
    "plt.show()\n"
   ]
  },
  {
   "cell_type": "code",
   "execution_count": 17,
   "metadata": {},
   "outputs": [
    {
     "name": "stdout",
     "output_type": "stream",
     "text": [
      "Most correlated feature: duration (Correlation: 0.4519)\n",
      "\n",
      "Single Feature Model Performance:\n",
      "Feature Used: duration\n",
      "Accuracy: 0.7179\n",
      "              precision    recall  f1-score   support\n",
      "\n",
      "           0       0.69      0.84      0.76      1175\n",
      "           1       0.76      0.59      0.66      1058\n",
      "\n",
      "    accuracy                           0.72      2233\n",
      "   macro avg       0.73      0.71      0.71      2233\n",
      "weighted avg       0.73      0.72      0.71      2233\n",
      "\n"
     ]
    }
   ],
   "source": [
    "from sklearn.metrics import classification_report, accuracy_score\n",
    "\n",
    "# Assuming `data_encoded` is your processed dataset\n",
    "# and `deposit` is the binary target column\n",
    "\n",
    "# Step 15: Find correlation with target\n",
    "correlation = data_encoded.corr()['deposit'].drop('deposit').abs().sort_values(ascending=False)\n",
    "most_correlated_feature = correlation.idxmax()\n",
    "print(f\"Most correlated feature: {most_correlated_feature} (Correlation: {correlation.max():.4f})\")\n",
    "\n",
    "# Step 16: Prepare single-feature dataset\n",
    "X_single = data_encoded[[most_correlated_feature]]\n",
    "y = data_encoded['deposit']\n",
    "\n",
    "# Step 17: Train/Test split\n",
    "X_train_s, X_test_s, y_train_s, y_test_s = train_test_split(\n",
    "    X_single, y, test_size=0.2, random_state=42, stratify=y\n",
    ")\n",
    "\n",
    "# Step 18: Train logistic regression model\n",
    "single_feature_model = LogisticRegression(max_iter=1000)\n",
    "single_feature_model.fit(X_train_s, y_train_s)\n",
    "\n",
    "# Step 19: Evaluate model\n",
    "y_pred_s = single_feature_model.predict(X_test_s)\n",
    "accuracy_s = accuracy_score(y_test_s, y_pred_s)\n",
    "\n",
    "print(\"\\nSingle Feature Model Performance:\")\n",
    "print(f\"Feature Used: {most_correlated_feature}\")\n",
    "print(f\"Accuracy: {accuracy_s:.4f}\")\n",
    "print(classification_report(y_test_s, y_pred_s))\n"
   ]
  },
  {
   "cell_type": "code",
   "execution_count": null,
   "metadata": {},
   "outputs": [],
   "source": []
  }
 ],
 "metadata": {
  "kernelspec": {
   "display_name": "myenv_Kaggle",
   "language": "python",
   "name": "python3"
  },
  "language_info": {
   "codemirror_mode": {
    "name": "ipython",
    "version": 3
   },
   "file_extension": ".py",
   "mimetype": "text/x-python",
   "name": "python",
   "nbconvert_exporter": "python",
   "pygments_lexer": "ipython3",
   "version": "3.10.12"
  }
 },
 "nbformat": 4,
 "nbformat_minor": 5
}
